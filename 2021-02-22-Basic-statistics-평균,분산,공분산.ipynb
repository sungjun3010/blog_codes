{
 "cells": [
  {
   "cell_type": "code",
   "execution_count": 7,
   "metadata": {},
   "outputs": [
    {
     "name": "stdout",
     "output_type": "stream",
     "text": [
      "53.0\n",
      "53.0\n",
      "\n",
      "20.571428571428573\n",
      "204.28571428571428\n",
      "\n",
      "20.571428571428573\n",
      "True\n",
      "\n",
      "24.0\n",
      "238.33333333333334\n",
      "4.535573676110727\n",
      "14.292855358035156\n",
      "\n",
      "4.535573676110727\n",
      "True\n",
      "True\n"
     ]
    }
   ],
   "source": [
    "import numpy as np\n",
    "\n",
    "# 아이스크림 가게 A, B의 일주일 매출 (단위: 만원)\n",
    "shopA_sales = np.array([47, 60, 51, 52, 58, 48, 55])\n",
    "shopB_sales = np.array([31, 73, 56, 61, 44, 67, 39])\n",
    "\n",
    "# 두 아이스크림 가게의 평균\n",
    "mean_A = shopA_sales.mean()\n",
    "mean_B = shopB_sales.mean()\n",
    "print(mean_A)\n",
    "print(mean_B)\n",
    "print()\n",
    "\n",
    "# 두 아이스크림 가게의 분산\n",
    "# FYI,numpy는 분산을 계산할 때 자유도를 고려하지 않습니다.\n",
    "var_A = shopA_sales.var()\n",
    "var_B = shopB_sales.var()\n",
    "\n",
    "# 자유도 고려 X\n",
    "print(var_A)\n",
    "print(var_B)\n",
    "print()\n",
    "\n",
    "# var()사용하지 않고 shopA_sales의 분산 계산하기\n",
    "tmp_var_A = np.power(shopA_sales-mean_A, 2).sum()/ len(shopA_sales)\n",
    "print(tmp_var_A)\n",
    "print(var_A == tmp_var_A)\n",
    "print()\n",
    "\n",
    "# 자유도 고려 O\n",
    "print(shopA_sales.var(ddof=1))\n",
    "print(shopB_sales.var(ddof=1))\n",
    "\n",
    "# 두 아이스크림 가게의 표준편차\n",
    "std_A = shopA_sales.std()\n",
    "std_B = shopB_sales.std()\n",
    "\n",
    "print(std_A)\n",
    "print(std_B)\n",
    "print()\n",
    "\n",
    "# std()사용하지 않고 shopA_sales의 표준편차 계산하기\n",
    "tmp_std_A = np.sqrt(np.power(shopA_sales-mean_A, 2).sum()/ len(shopA_sales))\n",
    "print(tmp_std_A)\n",
    "print(std_A == tmp_std_A)\n",
    "print(std_A == np.sqrt(tmp_var_A))"
   ]
  },
  {
   "cell_type": "code",
   "execution_count": 2,
   "metadata": {},
   "outputs": [],
   "source": [
    "# 아이스크림 가게 A, B의 일주일 매출 (단위: 만원)\n",
    "shopA_sales = np.array([47, 60, 51, 52, 58, 48, 55])\n",
    "shopB_sales = np.array([31, 73, 56, 61, 44, 67, 39])"
   ]
  },
  {
   "cell_type": "code",
   "execution_count": 3,
   "metadata": {},
   "outputs": [
    {
     "name": "stdout",
     "output_type": "stream",
     "text": [
      "53.0\n",
      "53.0\n"
     ]
    }
   ],
   "source": [
    "# 두 아이스크림 가게의 평균\n",
    "mean_A = shopA_sales.mean()\n",
    "mean_B = shopB_sales.mean()\n",
    "print(mean_A)\n",
    "print(mean_B)"
   ]
  },
  {
   "cell_type": "code",
   "execution_count": 4,
   "metadata": {},
   "outputs": [
    {
     "name": "stdout",
     "output_type": "stream",
     "text": [
      "20.571428571428573\n",
      "204.28571428571428\n",
      "\n",
      "20.571428571428573\n",
      "True\n",
      "\n",
      "24.0\n",
      "238.33333333333334\n"
     ]
    }
   ],
   "source": [
    "# 두 아이스크림 가게의 분산\n",
    "# FYI,numpy는 분산을 계산할 때 자유도를 고려하지 않습니다.\n",
    "var_A = shopA_sales.var()\n",
    "var_B = shopB_sales.var()\n",
    "\n",
    "# 자유도 고려 X\n",
    "print(var_A)\n",
    "print(var_B)\n",
    "print()\n",
    "\n",
    "# var()사용하지 않고 shopA_sales의 분산 계산하기\n",
    "tmp_var_A = np.power(shopA_sales-mean_A, 2).sum()/ len(shopA_sales)\n",
    "print(tmp_var_A)\n",
    "print(var_A == tmp_var_A)\n",
    "print()\n",
    "\n",
    "# 자유도 고려 O\n",
    "print(shopA_sales.var(ddof=1))\n",
    "print(shopB_sales.var(ddof=1))"
   ]
  },
  {
   "cell_type": "code",
   "execution_count": 5,
   "metadata": {},
   "outputs": [
    {
     "name": "stdout",
     "output_type": "stream",
     "text": [
      "4.535573676110727\n",
      "14.292855358035156\n",
      "\n",
      "4.535573676110727\n",
      "True\n",
      "True\n"
     ]
    }
   ],
   "source": [
    "# 두 아이스크림 가게의 표준편차\n",
    "std_A = shopA_sales.std()\n",
    "std_B = shopB_sales.std()\n",
    "\n",
    "print(std_A)\n",
    "print(std_B)\n",
    "print()\n",
    "\n",
    "# std()사용하지 않고 shopA_sales의 표준편차 계산하기\n",
    "tmp_std_A = np.sqrt(np.power(shopA_sales-mean_A, 2).sum()/ len(shopA_sales))\n",
    "print(tmp_std_A)\n",
    "print(std_A == tmp_std_A)\n",
    "print(std_A == np.sqrt(tmp_var_A))"
   ]
  },
  {
   "cell_type": "code",
   "execution_count": null,
   "metadata": {},
   "outputs": [],
   "source": []
  }
 ],
 "metadata": {
  "kernelspec": {
   "display_name": "Python 3",
   "language": "python",
   "name": "python3"
  },
  "language_info": {
   "codemirror_mode": {
    "name": "ipython",
    "version": 3
   },
   "file_extension": ".py",
   "mimetype": "text/x-python",
   "name": "python",
   "nbconvert_exporter": "python",
   "pygments_lexer": "ipython3",
   "version": "3.8.3"
  }
 },
 "nbformat": 4,
 "nbformat_minor": 4
}
